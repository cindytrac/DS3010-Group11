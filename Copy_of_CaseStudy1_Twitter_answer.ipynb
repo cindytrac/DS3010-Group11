{
  "cells": [
    {
      "cell_type": "markdown",
      "metadata": {
        "id": "view-in-github",
        "colab_type": "text"
      },
      "source": [
        "<a href=\"https://colab.research.google.com/github/cindytrac/DS3010-Group11/blob/main/Copy_of_CaseStudy1_Twitter_answer.ipynb\" target=\"_parent\"><img src=\"https://colab.research.google.com/assets/colab-badge.svg\" alt=\"Open In Colab\"/></a>"
      ]
    },
    {
      "cell_type": "markdown",
      "metadata": {
        "id": "fsjq366HA18T"
      },
      "source": [
        "# **Case Study 1 : Collecting Data from Twitter**"
      ]
    },
    {
      "cell_type": "markdown",
      "metadata": {
        "id": "nRnGkCSRA18X"
      },
      "source": [
        "**GROUP 11 Members:** \n",
        "  \n",
        "    Joshua DeOliveira\n",
        "    Aruzhan Koshkarova\n",
        "    Cindy Trac\n",
        "    Tiffany Wee Sit\n"
      ]
    },
    {
      "cell_type": "markdown",
      "metadata": {
        "id": "31lTqAzjA18W"
      },
      "source": [
        "<img src=\"https://logos-download.com/wp-content/uploads/2016/02/Twitter_Logo_new-700x569.png\">"
      ]
    },
    {
      "cell_type": "markdown",
      "metadata": {
        "id": "e-uJJaulA18Y"
      },
      "source": [
        "# ***Problem 1 (20 points): Sampling Twitter Data with the Search API about a certain topic***"
      ]
    },
    {
      "cell_type": "markdown",
      "metadata": {
        "id": "jWqIK-0VA18Y"
      },
      "source": [
        "* Select a topic that you are interested in, for example, \"WPI\" or \"Lady Gaga\"\n",
        "* Use Twitter Search API to sample a collection of tweets about this topic. (It would be recommended that the number of tweets should be larger than 200, but smaller than 1 million.\n",
        "* Store the tweets you downloaded into a local file (txt file or json file) "
      ]
    },
    {
      "cell_type": "markdown",
      "source": [
        "Connecting to Google Drive"
      ],
      "metadata": {
        "id": "pQD3fIRjTDEx"
      }
    },
    {
      "cell_type": "code",
      "execution_count": 2,
      "metadata": {
        "colab": {
          "base_uri": "https://localhost:8080/"
        },
        "id": "1t4VWSjf2eYv",
        "outputId": "03739597-c1da-4c87-db65-5b231202161b"
      },
      "outputs": [
        {
          "output_type": "stream",
          "name": "stdout",
          "text": [
            "Mounted at /content/drive\n"
          ]
        }
      ],
      "source": [
        "from google.colab import drive\n",
        "drive.mount('/content/drive')"
      ]
    },
    {
      "cell_type": "markdown",
      "source": [
        "Installing Twitter API"
      ],
      "metadata": {
        "id": "Ngq1JC2QTF1o"
      }
    },
    {
      "cell_type": "code",
      "execution_count": 3,
      "metadata": {
        "colab": {
          "base_uri": "https://localhost:8080/"
        },
        "id": "UHlfqylGDAEo",
        "outputId": "e178244c-0a87-4da6-df27-f8d0bb53e8ed"
      },
      "outputs": [
        {
          "output_type": "stream",
          "name": "stdout",
          "text": [
            "Collecting twitter\n",
            "  Downloading twitter-1.19.3-py2.py3-none-any.whl (50 kB)\n",
            "\u001b[?25l\r\u001b[K     |██████▌                         | 10 kB 21.9 MB/s eta 0:00:01\r\u001b[K     |█████████████                   | 20 kB 28.0 MB/s eta 0:00:01\r\u001b[K     |███████████████████▋            | 30 kB 34.6 MB/s eta 0:00:01\r\u001b[K     |██████████████████████████      | 40 kB 34.9 MB/s eta 0:00:01\r\u001b[K     |████████████████████████████████| 50 kB 5.1 MB/s \n",
            "\u001b[?25hInstalling collected packages: twitter\n",
            "Successfully installed twitter-1.19.3\n"
          ]
        }
      ],
      "source": [
        "! pip install twitter"
      ]
    },
    {
      "cell_type": "markdown",
      "source": [
        "Import Libraries"
      ],
      "metadata": {
        "id": "RO1IeJ_OTfWs"
      }
    },
    {
      "cell_type": "code",
      "source": [
        "import twitter\n",
        "import json\n",
        "import pandas as pd\n",
        "import numpy as np\n",
        "import re\n",
        "import matplotlib.pyplot as plt\n",
        "\n",
        "! pip install prettytable\n",
        "from prettytable import PrettyTable\n",
        "\n",
        "from collections import Counter"
      ],
      "metadata": {
        "id": "yIisyj8aTeza",
        "colab": {
          "base_uri": "https://localhost:8080/"
        },
        "outputId": "2914dea0-c3d2-4e27-f655-688524aef0cd"
      },
      "execution_count": 4,
      "outputs": [
        {
          "output_type": "stream",
          "name": "stdout",
          "text": [
            "Requirement already satisfied: prettytable in /usr/local/lib/python3.7/dist-packages (3.0.0)\n",
            "Requirement already satisfied: wcwidth in /usr/local/lib/python3.7/dist-packages (from prettytable) (0.2.5)\n",
            "Requirement already satisfied: importlib-metadata in /usr/local/lib/python3.7/dist-packages (from prettytable) (4.10.1)\n",
            "Requirement already satisfied: typing-extensions>=3.6.4 in /usr/local/lib/python3.7/dist-packages (from importlib-metadata->prettytable) (3.10.0.2)\n",
            "Requirement already satisfied: zipp>=0.5 in /usr/local/lib/python3.7/dist-packages (from importlib-metadata->prettytable) (3.7.0)\n"
          ]
        }
      ]
    },
    {
      "cell_type": "markdown",
      "source": [
        "Setting Up Twitter Credentials"
      ],
      "metadata": {
        "id": "H__B9IcCTNTZ"
      }
    },
    {
      "cell_type": "code",
      "execution_count": 5,
      "metadata": {
        "id": "3DcAmeG9A18Z"
      },
      "outputs": [],
      "source": [
        "# see https://developer.twitter.com/docs/auth/oauth for more information \n",
        "\n",
        "# function to login into Twitter API\n",
        "def oauth_login():\n",
        "   \n",
        "    CONSUMER_KEY = 'BuM83EJtmJh1DwbcbH4hrrDlU'\n",
        "    CONSUMER_SECRET ='2LSJmolp5nHGFBJLyX8qU49OPUrPnbDdFvzc1Ubjx37ZDVjqR5'\n",
        "    OAUTH_TOKEN = '571213367-G5NlqkE11GSERNhXTelqZdgqeSGH7jmyhOFKOx8u'\n",
        "    OAUTH_TOKEN_SECRET = 'D6OKIjFkuvbgAzhbueSca51yxy5LBdniz3CaozkMdaXRe'\n",
        "    \n",
        "    auth = twitter.oauth.OAuth(OAUTH_TOKEN, OAUTH_TOKEN_SECRET,\n",
        "                               CONSUMER_KEY, CONSUMER_SECRET)\n",
        "    \n",
        "    twitter_api = twitter.Twitter(auth=auth)\n",
        "    return twitter_api\n",
        "\n",
        "twitter_api = oauth_login()"
      ]
    },
    {
      "cell_type": "markdown",
      "source": [
        "Gathering the Data (Tweets) + Saving to Local File (data.json)"
      ],
      "metadata": {
        "id": "_nKRiMAmUAxs"
      }
    },
    {
      "cell_type": "code",
      "source": [
        "# key word\n",
        "q = '#NFT'\n",
        "\n",
        "# number of tweets we want\n",
        "count = 200000\n",
        "\n",
        "search_results = twitter_api.search.tweets(q=q, count=count)\n",
        "\n",
        "search_results\n",
        "\n",
        " \n",
        "# open and write to json file\n",
        "  \n",
        "with open(\"data.json\", \"w\") as outfile:\n",
        "    json.dump(search_results, outfile)\n",
        " \n",
        "statuses = search_results['statuses']\n",
        "\n",
        "\n",
        "status_texts = [ status['text']\n",
        "                 for status in statuses ]\n",
        "\n"
      ],
      "metadata": {
        "id": "EX1GoBgOTTwS"
      },
      "execution_count": 15,
      "outputs": []
    },
    {
      "cell_type": "markdown",
      "source": [
        "Parsing + Exploring Data"
      ],
      "metadata": {
        "id": "8S3K7-2eVsJn"
      }
    },
    {
      "cell_type": "code",
      "source": [
        "# compute a collection of all words from all tweets\n",
        "words = [ w\n",
        "          for t in status_texts\n",
        "              for w in t.split() ]\n",
        "\n",
        "user_mentions = [ user_mention['screen_name']\n",
        "                 for status in statuses\n",
        "                     for user_mention in status['entities']['user_mentions'] ]\n",
        "'''\n",
        "screen_name = [ user_name['screen_name']\n",
        "                 for status in statuses\n",
        "                     for user_name in status['entities']['user']['screen_name'] ]\n",
        "'''\n",
        "\n",
        "hashtags = [ hashtag['text']\n",
        "             for status in statuses\n",
        "                 for hashtag in status['entities']['hashtags'] ]\n",
        "\n",
        "# getting info BY TWEET\n",
        "\n",
        "hashtag_by_tweet = []\n",
        "for i in range(len(statuses)):\n",
        "  hashtag_by_tweet.append([hashtag['text'] for hashtag in statuses[i]['entities']['hashtags']])\n",
        "\n",
        "words_by_tweet = []\n",
        "for i in range(len(status_texts)):\n",
        "  words_by_tweet.append([w for w in status_texts[i].split()])\n",
        "\n",
        "\n",
        "\n",
        "'''\n",
        "Things we want to save in each tweet\n",
        "X ScreenNames (screen_names)\n",
        "- UserMentions\n",
        "x Hashtags (hashtag_by_tweet)\n",
        "x Body (words_by_tweet)\n",
        "- Number of retweets\n",
        "- Number of likes\n",
        "- Number of comments\n",
        "\n",
        "'''\n",
        "\n",
        "print(len(statuses))\n",
        "#print(len(screen_names))\n",
        "print(len(hashtags))\n",
        "#print(hashtags)\n",
        "print(hashtag_by_tweet)\n",
        "print(words)\n",
        "print(words_by_tweet)\n",
        "# every row is a tweet ()\n"
      ],
      "metadata": {
        "id": "FgBdDiohVq-7"
      },
      "execution_count": null,
      "outputs": []
    },
    {
      "cell_type": "markdown",
      "metadata": {
        "id": "BgU_ryKOA18d"
      },
      "source": [
        "### Some statistics about the tweets we collected:\n",
        "\n",
        "* The topic of interest: **Nonfungible Tokens**\n",
        "\n",
        "\n",
        "* The total number of tweets collected:  **200,000**"
      ]
    },
    {
      "cell_type": "markdown",
      "metadata": {
        "id": "BUNy7CEJA18d"
      },
      "source": [
        "*-----------------------"
      ]
    },
    {
      "cell_type": "markdown",
      "metadata": {
        "id": "xHvwKm5sA18e"
      },
      "source": [
        "# ***Problem 2 (20 points): Analyzing Tweets and Tweet Entities with Frequency Analysis***\n",
        "\n",
        "**1. Word Count:** \n",
        "* Use the tweets you collected in Problem 1, and compute the frequencies of the words being used in these tweets. \n",
        "* Plot a table of the top 30 words with their counts"
      ]
    },
    {
      "cell_type": "code",
      "execution_count": null,
      "metadata": {
        "id": "V_ZHKBRuA18e",
        "colab": {
          "base_uri": "https://localhost:8080/",
          "height": 964
        },
        "outputId": "8d9a5ebe-ef20-4a31-b44f-8cd57510bb2d"
      },
      "outputs": [
        {
          "output_type": "stream",
          "name": "stdout",
          "text": [
            "[('RT', 110), ('the', 36), ('To', 34), ('&amp;', 33), ('#NFT', 30), ('to', 24), ('✅', 23), ('Follow', 23), ('on', 20), ('in', 18), ('a', 18), ('🧬', 18), ('are', 18), ('of', 17), ('for', 17), ('Like', 17), ('and', 16), ('NFT', 15), ('is', 14), ('Enter:', 13), ('your', 12), ('WL', 11), ('this', 10), ('5', 10), ('collection', 10), ('have', 10), ('giving', 10), ('away', 10), ('-', 10), ('by', 10)]\n",
            "+------------+--------+\n",
            "| Words      | Counts |\n",
            "+------------+--------+\n",
            "| RT         |    110 |\n",
            "| the        |     36 |\n",
            "| To         |     34 |\n",
            "| &amp;      |     33 |\n",
            "| #NFT       |     30 |\n",
            "| to         |     24 |\n",
            "| ✅         |     23 |\n",
            "| Follow     |     23 |\n",
            "| on         |     20 |\n",
            "| in         |     18 |\n",
            "| a          |     18 |\n",
            "| 🧬         |     18 |\n",
            "| are        |     18 |\n",
            "| of         |     17 |\n",
            "| for        |     17 |\n",
            "| Like       |     17 |\n",
            "| and        |     16 |\n",
            "| NFT        |     15 |\n",
            "| is         |     14 |\n",
            "| Enter:     |     13 |\n",
            "| your       |     12 |\n",
            "| WL         |     11 |\n",
            "| this       |     10 |\n",
            "| 5          |     10 |\n",
            "| collection |     10 |\n",
            "| have       |     10 |\n",
            "| giving     |     10 |\n",
            "| away       |     10 |\n",
            "| -          |     10 |\n",
            "| by         |     10 |\n",
            "+------------+--------+\n"
          ]
        },
        {
          "output_type": "execute_result",
          "data": {
            "application/vnd.google.colaboratory.intrinsic+json": {
              "type": "string"
            },
            "text/plain": [
              "'\\n# get rid of emojis\\ndef deEmoji(text):\\n    regex_pat = re.compile(pattern = \"[\"\\n        u\"😀-🙏\"  # emoticons\\n        u\"🌀-🗿\"  # symbols & pictographs\\n        u\"🚀-\\U0001f6ff\"  # transport & map symbols\\n        u\"\\U0001f1e0-🇿\"  # flags (iOS)\\n                           \"]+\", flags = re.UNICODE)\\n    return regex_pat.sub(r\\'\\',text)\\n\\n\\ndo_not_want = [\\'@\\', \\'I\\', \\'you\\', \\'our\\', \\'the\\', \\'my\\', \\'to\\', \\'a\\']\\nunique_words = [ele for ele in words if all(ch not in ele for ch in do_not_want)]\\n\\n\\ncleaned_list = []\\n\\n\\nfor w in unique_words:\\n  cleaned_list.append(w.lower())\\n  '"
            ]
          },
          "metadata": {},
          "execution_count": 5
        },
        {
          "output_type": "display_data",
          "data": {
            "image/png": "[encoded data removed]",
            "text/plain": [
              "<Figure size 432x288 with 1 Axes>"
            ]
          },
          "metadata": {
            "needs_background": "light"
          }
        }
      ],
      "source": [
        "# list of words from tweets\n",
        "words\n",
        "\n",
        "# getting the top 30 words and their words counts\n",
        "\n",
        "for item in [words]:\n",
        "  c = Counter(item)\n",
        "  print (c.most_common()[:30]) #top 30 words \n",
        "  print\n",
        "\n",
        "# insert table\n",
        "\n",
        "pt = PrettyTable(['Words', 'Counts'])\n",
        "pt.align['Words'] = 'l'\n",
        "pt.align['Counts'] = 'r'\n",
        "for row in c.most_common(30):\n",
        "    pt.add_row(row)\n",
        "print (pt)\n",
        "\n",
        "\n",
        "#Insert Plot for top 30 words \n",
        "word_counts = sorted(Counter(words).values(), reverse= True)\n",
        "plt.loglog(word_counts)\n",
        "plt.ylabel(\"Freq\")\n",
        "plt.xlabel(\"Word Rank\")\n"
      ]
    },
    {
      "cell_type": "markdown",
      "metadata": {
        "id": "DMigKzFlA18e"
      },
      "source": [
        "**2. Find the most popular tweets in your collection of tweets**\n",
        "\n",
        "Please plot a table of the top 10 tweets that are the most popular among your collection, i.e., the tweets with the largest number of retweet counts.\n"
      ]
    },
    {
      "cell_type": "code",
      "execution_count": null,
      "metadata": {
        "id": "JrxgbEBRA18f",
        "outputId": "3b71a7d4-fda3-484c-cf38-b130b7e7fd44",
        "colab": {
          "base_uri": "https://localhost:8080/"
        }
      },
      "outputs": [
        {
          "output_type": "stream",
          "name": "stdout",
          "text": [
            "Requirement already satisfied: prettytable in /usr/local/lib/python3.7/dist-packages (3.0.0)\n",
            "Requirement already satisfied: wcwidth in /usr/local/lib/python3.7/dist-packages (from prettytable) (0.2.5)\n",
            "Requirement already satisfied: importlib-metadata in /usr/local/lib/python3.7/dist-packages (from prettytable) (4.10.1)\n",
            "Requirement already satisfied: typing-extensions>=3.6.4 in /usr/local/lib/python3.7/dist-packages (from importlib-metadata->prettytable) (3.10.0.2)\n",
            "Requirement already satisfied: zipp>=0.5 in /usr/local/lib/python3.7/dist-packages (from importlib-metadata->prettytable) (3.7.0)\n",
            "+-------+----------------+----------------------------------------------------+\n",
            "| Count | Screen Name    | Text                                               |\n",
            "+-------+----------------+----------------------------------------------------+\n",
            "| 35377 | IbaxNetwork    | RT @IbaxNetwork: Waiting for next week             |\n",
            "|       |                | #IBAX #Airdrop #cryptocurrency #Metaverse          |\n",
            "|       |                | #Giveaways #NFT https://t.co/qGZCHapAIQ            |\n",
            "| 32417 | IbaxNetwork    | RT @IbaxNetwork: Join us！ You can get up to       |\n",
            "|       |                | 100,000 IBXC .                                     |\n",
            "|       |                | https://t.co/NePHh1VvOv                            |\n",
            "|       |                | #IBAX #Airdrop #cryptocurrency #Metaverse          |\n",
            "|       |                | #Giveaways #N…                                     |\n",
            "| 13451 | Ancient8_gg    | RT @Ancient8_gg: 🎉 This is the #NFT Whitelist     |\n",
            "|       |                | Campaign you have been waiting for!                |\n",
            "|       |                |                                                    |\n",
            "|       |                | In being an early supporter of #Ancient8, you will |\n",
            "|       |                | get W…                                             |\n",
            "| 9711  | SoulZ_NFT      | RT @SoulZ_NFT: 🎉 30k on Twitter and 60k in        |\n",
            "|       |                | discord!🎉                                         |\n",
            "|       |                |                                                    |\n",
            "|       |                | To celebrate we will have our biggest giveaway     |\n",
            "|       |                | yet!                                               |\n",
            "|       |                |                                                    |\n",
            "|       |                | 👀1 x SoulZ NFT (free mint)                        |\n",
            "|       |                | 👀10 x…                                            |\n",
            "| 9711  | SoulZ_NFT      | RT @SoulZ_NFT: 🎉 30k on Twitter and 60k in        |\n",
            "|       |                | discord!🎉                                         |\n",
            "|       |                |                                                    |\n",
            "|       |                | To celebrate we will have our biggest giveaway     |\n",
            "|       |                | yet!                                               |\n",
            "|       |                |                                                    |\n",
            "|       |                | 👀1 x SoulZ NFT (free mint)                        |\n",
            "|       |                | 👀10 x…                                            |\n",
            "| 6553  | TomoeGozenNFTs | RT @TomoeGozenNFTs: Are you ready? If you are      |\n",
            "|       |                | seeing this, then you are early. Rt and like and   |\n",
            "|       |                | tag your 3 friends to win 30 WL spots. #NFT…       |\n",
            "| 4794  | POODLETOKEN    | RT @POODLETOKEN: 🚨 $POODL NEWS! 🚨                |\n",
            "|       |                |                                                    |\n",
            "|       |                | We have a HUGE announcement. To add to our #gaming |\n",
            "|       |                | #metaverse #NFT #NFTs #GameFi utility strand?      |\n",
            "|       |                |                                                    |\n",
            "|       |                | We pro…                                            |\n",
            "| 4794  | POODLETOKEN    | RT @POODLETOKEN: 🚨 $POODL NEWS! 🚨                |\n",
            "|       |                |                                                    |\n",
            "|       |                | We have a HUGE announcement. To add to our #gaming |\n",
            "|       |                | #metaverse #NFT #NFTs #GameFi utility strand?      |\n",
            "|       |                |                                                    |\n",
            "|       |                | We pro…                                            |\n",
            "| 4794  | POODLETOKEN    | RT @POODLETOKEN: 🚨 $POODL NEWS! 🚨                |\n",
            "|       |                |                                                    |\n",
            "|       |                | We have a HUGE announcement. To add to our #gaming |\n",
            "|       |                | #metaverse #NFT #NFTs #GameFi utility strand?      |\n",
            "|       |                |                                                    |\n",
            "|       |                | We pro…                                            |\n",
            "| 4533  | pxquest        | RT @pxquest: 🔥 GIVING AWAY 1 FREE GEN2 GODJIRA 🔥 |\n",
            "|       |                |                                                    |\n",
            "|       |                | FROM OUR GOOD FRIENDS AT @PGodjira                 |\n",
            "|       |                |                                                    |\n",
            "|       |                | 1️⃣ LIKE AND RT                                      |\n",
            "|       |                | 2️⃣ TAG 2 FRIENDS                                    |\n",
            "|       |                | 3️⃣ FOLLOW @pxques…                                  |\n",
            "+-------+----------------+----------------------------------------------------+\n"
          ]
        }
      ],
      "source": [
        "\n",
        "retweets = [\n",
        "            (status['retweet_count'],\n",
        "             status['retweeted_status']['user']['screen_name'],\n",
        "             status['text'])\n",
        "            for status in statuses\n",
        "                if 'retweeted_status' in status.keys()\n",
        "           ]\n",
        "\n",
        "pt = PrettyTable(field_names=['Count', 'Screen Name', 'Text'])\n",
        "[ pt.add_row(row) for row in sorted(retweets, reverse=True)[:10] ]\n",
        "pt.max_width['Text'] = 50\n",
        "pt.align= 'l'\n",
        "print(pt)\n"
      ]
    },
    {
      "cell_type": "markdown",
      "metadata": {
        "id": "fbUOQT32A18f"
      },
      "source": [
        "**3. Find the most popular Tweet Entities in your collection of tweets**\n",
        "\n",
        "Please plot a table of the top 10 hashtags, top 10 user mentions that are the most popular in your collection of tweets."
      ]
    },
    {
      "cell_type": "code",
      "execution_count": null,
      "metadata": {
        "id": "DKYkobrzA18f",
        "colab": {
          "base_uri": "https://localhost:8080/"
        },
        "outputId": "f589e0c8-f997-4734-a49d-f1ecf6d399ec"
      },
      "outputs": [
        {
          "output_type": "stream",
          "name": "stdout",
          "text": [
            "+--------------+-----------+\n",
            "|   Hashtag    | Frequency |\n",
            "+--------------+-----------+\n",
            "|     NFT      |     40    |\n",
            "| NFTGiveaway  |     10    |\n",
            "|     NFTs     |     9     |\n",
            "|     nft      |     7     |\n",
            "|    nftart    |     6     |\n",
            "|  NFTartist   |     4     |\n",
            "|  Giveaways   |     4     |\n",
            "| NFTCommunity |     3     |\n",
            "| savethedate  |     2     |\n",
            "|   NFTdrop    |     2     |\n",
            "+--------------+-----------+\n",
            "+---------------+-----------+\n",
            "| Hashtag Group | Frequency |\n",
            "+---------------+-----------+\n",
            "|      nft      |     57    |\n",
            "|  nftgiveaway  |     10    |\n",
            "|     nftart    |     7     |\n",
            "|    giveaway   |     5     |\n",
            "|   nftartist   |     4     |\n",
            "|  nftcommunity |     3     |\n",
            "|      eth      |     3     |\n",
            "|  savethedate  |     2     |\n",
            "|    nftdrop    |     2     |\n",
            "|    freenft    |     2     |\n",
            "+---------------+-----------+\n",
            "+----------------+----------+\n",
            "|   User Name    | Mentions |\n",
            "+----------------+----------+\n",
            "| HybridFacti0ns |    5     |\n",
            "|  KuramaFoxes   |    4     |\n",
            "|    TheJenus    |    3     |\n",
            "| prototype5656  |    3     |\n",
            "|  crypthereals  |    3     |\n",
            "|  MoonwithADAM  |    2     |\n",
            "| Shibelon_MOON  |    2     |\n",
            "|   DopeyApes    |    2     |\n",
            "|     90BE90     |    2     |\n",
            "| PowerPixelNFTs |    2     |\n",
            "+----------------+----------+\n"
          ]
        }
      ],
      "source": [
        "#----------------------------------------------\n",
        "# Your code starts here\n",
        "#   Please add comments or text cells in between to explain the general idea of each block of the code.\n",
        "#   Please feel free to add more cells below this cell if necessary\n",
        "\n",
        "#List of all hashtags\n",
        "for item in [hashtags]:\n",
        "  c = Counter(item)\n",
        "  h_list = c.most_common()[:10] #raw top 10 hashtags \n",
        "\n",
        "hashtag_table = PrettyTable()\n",
        "hashtag_table.field_names = ['Hashtag', 'Frequency']\n",
        "for item in h_list:\n",
        "  hashtag_table.add_row([item[0], item[1]])\n",
        "print(hashtag_table)\n",
        "\n",
        "\n",
        "#List of hashtags lowercase\n",
        "lwrHashtag = [item.lower().strip() for item in hashtags]\n",
        "mod_list = []\n",
        "for tag in lwrHashtag:\n",
        "  if len(tag)> 1 and (tag[:-1] in lwrHashtag):\n",
        "    mod_list.append(tag[:-1])\n",
        "  else:\n",
        "    mod_list.append(tag)\n",
        "#print(mod_list) debugging\n",
        "\n",
        "for item in [mod_list]:\n",
        "  c = Counter(item)\n",
        "  mod_h_list = c.most_common()[:10] #cleaned top 10 hashtags \n",
        "\n",
        "hashtag_mod_table = PrettyTable()\n",
        "hashtag_mod_table.field_names = ['Hashtag Group', 'Frequency']\n",
        "for item in mod_h_list:\n",
        "  hashtag_mod_table.add_row([item[0], item[1]])\n",
        "print(hashtag_mod_table)\n",
        "\n",
        "#User mentions\n",
        "for item in [user_mentions]:\n",
        "  c = Counter(item)\n",
        "  name_frequency = (c.most_common()[:10]) #raw top 10 user mentions. Doesn't need to be inorganic since mentions are a unique identifier \n",
        "  \n",
        "mentions_table = PrettyTable()\n",
        "mentions_table.field_names = ['User Name', 'Mentions']\n",
        "for item in name_frequency:\n",
        "  mentions_table.add_row([item[0], item[1]])\n",
        "print(mentions_table)"
      ]
    },
    {
      "cell_type": "markdown",
      "metadata": {
        "id": "sLEC3fX_A18g"
      },
      "source": [
        "* ------------------------\n",
        "\n",
        "# ***Problem 3 (20 points): Getting \"All\" friends and \"All\" followers of a popular user in twitter***\n"
      ]
    },
    {
      "cell_type": "markdown",
      "metadata": {
        "id": "-wTKbSAnA18g"
      },
      "source": [
        "* choose a popular twitter user who has many followers, such as \"ladygaga\".\n",
        "* Get the list of all friends and all followers of the twitter user.\n",
        "* Plot 20 out of the followers, plot their ID numbers and screen names in a table.\n",
        "* Plot 20 out of the friends (if the user has more than 20 friends), plot their ID numbers and screen names in a table."
      ]
    },
    {
      "cell_type": "code",
      "execution_count": null,
      "metadata": {
        "id": "YI8np92oA18h"
      },
      "outputs": [],
      "source": [
        "#----------------------------------------------\n",
        "# Your code starts here\n",
        "#   Please add comments or text cells in between to explain the general idea of each block of the code.\n",
        "#   Please feel free to add more cells below this cell if necessary\n",
        "\n",
        "\n"
      ]
    },
    {
      "cell_type": "markdown",
      "metadata": {
        "id": "cGOvRwzxA18h"
      },
      "source": [
        "* Compute the mutual friends within the two groups, i.e., the users who are in both friend list and follower list, plot their ID numbers and screen names in a table"
      ]
    },
    {
      "cell_type": "code",
      "execution_count": null,
      "metadata": {
        "id": "FGOM-EKTA18i"
      },
      "outputs": [],
      "source": [
        "#----------------------------------------------\n",
        "# Your code starts here\n",
        "#   Please add comments or text cells in between to explain the general idea of each block of the code.\n",
        "#   Please feel free to add more cells below this cell if necessary\n",
        "\n",
        "\n"
      ]
    },
    {
      "cell_type": "markdown",
      "metadata": {
        "id": "4B53GdUzA18i"
      },
      "source": [
        "*------------------------\n",
        "\n",
        "# ***Problem 4 (20 points): Business Question***\n",
        "\n",
        "Run some additional experiments with your data to gain familiarity with the twitter data and twitter API.\n",
        "\n",
        "* Come up with a business question that Twitter data could help answer.\n",
        "* Decribe the business case.\n",
        "* How could Twitter data help a company decide how to spend its resources."
      ]
    },
    {
      "cell_type": "markdown",
      "source": [
        "Our business question is how to determine the signs that an NFT collection will blow up. The NFT community is largely based on Twitter. Twitter is how NFT creators spread news of their work and also garner attention. NFT collections \n",
        "\n",
        "We think that by looking at key words that"
      ],
      "metadata": {
        "id": "NzcPJ4W9YGuo"
      }
    },
    {
      "cell_type": "code",
      "execution_count": null,
      "metadata": {
        "id": "FomaD-F0A18i"
      },
      "outputs": [],
      "source": [
        "#----------------------------------------------\n",
        "# Your code starts here\n",
        "#   Please add comments or text cells in between to explain the general idea of each block of the code.\n",
        "#   Please feel free to add more cells below this cell if necessary\n",
        "\n",
        "\n",
        "\n",
        "\n"
      ]
    },
    {
      "cell_type": "markdown",
      "metadata": {
        "id": "qCrHmit6A18j"
      },
      "source": [
        "*-----------------\n",
        "# Done\n",
        "\n",
        "All set! \n",
        "\n",
        "** What do you need to submit?**\n",
        "\n",
        "* **Notebook File**: Save this IPython notebook, and find the notebook file in your folder (for example, \"filename.ipynb\"). This is the file you need to submit. Please make sure all the plotted tables and figures are in the notebook. If you used \"ipython notebook --pylab=inline\" to open the notebook, all the figures and tables should have shown up in the notebook.\n",
        "\n",
        "\n",
        "* **PPT Slides**: please prepare PPT slides (for 10-15 minutes talk) to present about the case study . We will ask two teams which are randomly selected to present their case studies in class for this case study. \n",
        "\n",
        "* **Report**: please prepare a report (less than 10 pages) to report what you found in the data.\n",
        "    * What data you collected? \n",
        "    * Why this topic is interesting or important to you? (Motivations)\n",
        "    * How did you analyse the data?\n",
        "    * What did you find in the data? \n",
        " \n",
        "     (please include figures or tables in the report, but no source code)\n",
        "\n",
        "Please compress all the files in a zipped file.\n",
        "\n",
        "\n",
        "** How to submit: **\n",
        "\n",
        "        Please submit through email to Prof. Paffenroth (rcpaffenroth@wpi.edu) *and* the TA (dyou@wpi.edu).\n",
        "\n",
        "#### We auto-process the submissions so make sure your subject line is *exactly*:\n",
        "\n",
        "### DS3010 Case Study 1 Team 11\n",
        "        \n",
        "** Note: Each team just needs to submits one submission **"
      ]
    },
    {
      "cell_type": "markdown",
      "metadata": {
        "id": "w_y_VpkSA18j"
      },
      "source": [
        "# Grading Criteria:\n",
        "\n",
        "** Totoal Points: 100 **\n",
        "\n",
        "\n",
        "---------------------------------------------------------------------------\n",
        "** Notebook results:  **\n",
        "    Points: 80\n",
        "\n",
        "\n",
        "    -----------------------------------\n",
        "    Qestion 1:\n",
        "    Points: 20\n",
        "    -----------------------------------\n",
        "    \n",
        "    (1) Select a topic that you are interested in.\n",
        "    Points: 6 \n",
        "    \n",
        "    (2) Use Twitter Streaming API to sample a collection of tweets about this topic in real time. (It would be recommended that the number of tweets should be larger than 200, but smaller than 1 million. Please check whether the total number of tweets collected is larger than 200?\n",
        "    Points: 10 \n",
        "    \n",
        "    \n",
        "    (3) Store the tweets you downloaded into a local file (txt file or json file)\n",
        "    Points: 4 \n",
        "    \n",
        "    \n",
        "    -----------------------------------\n",
        "    Qestion 2:\n",
        "    Points: 20\n",
        "    -----------------------------------\n",
        "    \n",
        "    1. Word Count\n",
        "\n",
        "    (1) Use the tweets you collected in Problem 1, and compute the frequencies of the words being used in these tweets.\n",
        "    Points: 4 \n",
        "\n",
        "    (2) Plot a table of the top 30 words with their counts \n",
        "    Points: 4 \n",
        "    \n",
        "    2. Find the most popular tweets in your collection of tweets\n",
        "    plot a table of the top 10 tweets that are the most popular among your collection, i.e., the tweets with the largest number of retweet counts.\n",
        "    Points: 4 \n",
        "    \n",
        "    3. Find the most popular Tweet Entities in your collection of tweets\n",
        "\n",
        "    (1) plot a table of the top 10 hashtags, \n",
        "    Points: 4 \n",
        "\n",
        "    (2) top 10 user mentions that are the most popular in your collection of tweets.\n",
        "    Points: 4 \n",
        "    \n",
        "    \n",
        "    -----------------------------------\n",
        "    Qestion 3:\n",
        "    Points: 20\n",
        "    -----------------------------------\n",
        "    \n",
        "    (1) choose a popular twitter user who has many followers, such as \"ladygaga\".\n",
        "    Points: 4 \n",
        "\n",
        "    (2) Get the list of all friends and all followers of the twitter user.\n",
        "    Points: 4 \n",
        "\n",
        "    (3) Plot 20 out of the followers, plot their ID numbers and screen names in a table.\n",
        "    Points: 4 \n",
        "\n",
        "    (4) Plot 20 out of the friends (if the user has more than 20 friends), plot their ID numbers and screen names in a table.\n",
        "    Points: 4 \n",
        "    \n",
        "    (5) Compute the mutual friends within the two groups, i.e., the users who are in both friend list and follower list, plot their ID numbers and screen names in a table\n",
        "    Points: 4 \n",
        "  \n",
        "    -----------------------------------\n",
        "    Qestion 4:  Business question\n",
        "    Points: 20\n",
        "    -----------------------------------\n",
        "        Novelty: 10\n",
        "        Interestingness: 10\n",
        "    -----------------------------------\n",
        "    Run some additional experiments with your data to gain familiarity with the twitter data ant twitter API.  Come up with a business question and describe how Twitter data can help you answer that question.\n",
        "\n",
        "\n",
        "\n",
        "\n",
        "\n",
        "---------------------------------------------------------------------------\n",
        "**Slides (for presentation): Story-telling**\n",
        "    Points: 20\n",
        "\n",
        "\n",
        "1. Motivation about the data collection, why the topic is interesting to you.\n",
        "    Points: 5 \n",
        "\n",
        "2. Communicating Results (figure/table)\n",
        "    Points: 10 \n",
        "\n",
        "3. Story telling (How all the parts (data, analysis, result) fit together as a story?)\n",
        "    Points: 5 \n",
        "\n"
      ]
    },
    {
      "cell_type": "code",
      "execution_count": null,
      "metadata": {
        "id": "PscVSVMuA18j"
      },
      "outputs": [],
      "source": [
        ""
      ]
    }
  ],
  "metadata": {
    "anaconda-cloud": {},
    "colab": {
      "name": "Copy of CaseStudy1_Twitter_answer.ipynb",
      "provenance": [],
      "collapsed_sections": [],
      "include_colab_link": true
    },
    "kernel_info": {
      "name": "python3"
    },
    "kernelspec": {
      "display_name": "Python 3",
      "language": "python",
      "name": "python3"
    },
    "language_info": {
      "codemirror_mode": {
        "name": "ipython",
        "version": 3
      },
      "file_extension": ".py",
      "mimetype": "text/x-python",
      "name": "python",
      "nbconvert_exporter": "python",
      "pygments_lexer": "ipython3",
      "version": "3.8.5"
    },
    "nteract": {
      "version": "0.2.0"
    }
  },
  "nbformat": 4,
  "nbformat_minor": 0
}